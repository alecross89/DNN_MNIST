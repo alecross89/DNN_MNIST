{
 "cells": [
  {
   "cell_type": "markdown",
   "metadata": {},
   "source": [
    "# Basic Neural Network in Tensorflow  (MNIST)\n",
    "\n",
    "### Construction Phase"
   ]
  },
  {
   "cell_type": "code",
   "execution_count": 1,
   "metadata": {
    "collapsed": true
   },
   "outputs": [],
   "source": [
    "import tensorflow as tf\n",
    "\n",
    "n_inputs = 28*28\n",
    "n_hidden1 = 300\n",
    "n_hidden2 = 100\n",
    "n_outputs = 10"
   ]
  },
  {
   "cell_type": "markdown",
   "metadata": {},
   "source": [
    "- since number of features is 28x28 but we dont know how many samples per training batch we're going to have, we use (None, n_inputs) as the shape of X.  \n",
    "- We also know y will be a 1D tensor, but unsure of how many samples will be a batch, so the shape of y is (None)"
   ]
  },
  {
   "cell_type": "code",
   "execution_count": 16,
   "metadata": {
    "collapsed": false
   },
   "outputs": [],
   "source": [
    "X = tf.placeholder(tf.float32, shape=(None, n_inputs), name='X')\n",
    "y = tf.placeholder(tf.int32, shape=(None), name='y')"
   ]
  },
  {
   "cell_type": "markdown",
   "metadata": {},
   "source": [
    "- X is the input layer (it will be replaced with one training batch at a time)\n",
    "- Then we have the 2 hidden layers (differ by number of neurons and the inputs they're connected to)\n",
    "- The output layer uses a softmax activation function"
   ]
  },
  {
   "cell_type": "code",
   "execution_count": 10,
   "metadata": {
    "collapsed": true
   },
   "outputs": [],
   "source": [
    "# def neuron_layer(X, n_neurons, name, activation=None):\n",
    "    \n",
    "#     # create name scope using the name of the layer.\n",
    "#     with tf.name_scope(name):\n",
    "        \n",
    "#         # get the number of inputs by uses the matrix's shape\n",
    "#         n_inputs = int(X.get_shape()[1])\n",
    "        \n",
    "#         # using this stddev will help increase the efficency of this particular network\n",
    "#         stddev = 2 / np.sqrt(n_inputs)\n",
    "        \n",
    "#         # We create W that will hold the weights of the matrix.  It is a 2D tensor containing all of the connection\n",
    "#         # weights between each input and neuron.  It is initialized randomly using a truncated normal (Gaussian) \n",
    "#         # distribution.  Important to 'init' all connection weights randomly for all hidden layers to avoid any \n",
    "#         # symmetries that the GD algo would be unable to break.\n",
    "#         init = tf.truncated_normal((n_inputs, n_neurons), stddev=stddev)\n",
    "#         W = tf.Variable(init, name='weights')\n",
    "        \n",
    "#         # creating biases init to 0\n",
    "#         b = tf.Variable(tf.zeros([n_neurons]), name='biases')\n",
    "        \n",
    "#         # create subgraph to compute z\n",
    "#         z = tf.matmul(X, W) + b\n",
    "#         if activation == 'relu':\n",
    "#             return tf.nn.relu(z)\n",
    "#         else:\n",
    "#             return z"
   ]
  },
  {
   "cell_type": "code",
   "execution_count": 11,
   "metadata": {
    "collapsed": true
   },
   "outputs": [],
   "source": [
    "# creating the network\n",
    "\n",
    "# with tf.name_scope('dnn'):\n",
    "#     hidden1 = neuron_layer(X, n_hidden1, 'hidden1', activation='relu')\n",
    "#     hidden2 = neuron_layer(n_hidden1, n_hidden2, 'hidden2', activation='relu')\n",
    "#     # logits is the output of the NN before going through softmax activation function.\n",
    "#     logits = neuron_layer(n_hidden2, n_outputs, 'outputs')"
   ]
  },
  {
   "cell_type": "markdown",
   "metadata": {},
   "source": [
    "- instead of building our own neuron_layer function, we can use tensorflows tf.layers.dense() layer "
   ]
  },
  {
   "cell_type": "code",
   "execution_count": 14,
   "metadata": {
    "collapsed": false
   },
   "outputs": [],
   "source": [
    "import numpy as np\n",
    "\n",
    "with tf.name_scope(\"dnn\"):\n",
    "    hidden1 = tf.layers.dense(X, n_hidden1, name=\"hidden1\", activation=tf.nn.relu)\n",
    "    hidden2 = tf.layers.dense(hidden1, n_hidden2, name=\"hidden2\", activation=tf.nn.relu)\n",
    "    logits = tf.layers.dense(hidden2, n_outputs, name=\"outputs\")"
   ]
  },
  {
   "cell_type": "markdown",
   "metadata": {},
   "source": [
    "### Define Cost Function used to train\n",
    "\n",
    "- we will use cross-entropy -- penalize models that estimate a low probability for the target class.\n",
    "- __sparse_softmax_cross_entropy_with_logits()__ computes the cross entropy based on the logits (output of the network before going through the softmax activation function), and it expects labels in the form of ints, ranging from 0 to 9.\n",
    "- this will give us a 1D tensor containing the cross-entropy for each instance.  We then use TF's __reduce_mean()__ fnc to compute the cross entropy over all instances.\n",
    "- note - sparse_softmax_cross_entropy_with_logits is equivalent to applying the softmax function and then computing cross entropy, but it is more efficient than applying the softmax fnc earlier in our code."
   ]
  },
  {
   "cell_type": "code",
   "execution_count": 17,
   "metadata": {
    "collapsed": false
   },
   "outputs": [],
   "source": [
    "with tf.name_scope('loss'):\n",
    "    cross_entropy = tf.nn.sparse_softmax_cross_entropy_with_logits(labels=y, logits=logits)\n",
    "    loss = tf.reduce_mean(cross_entropy, name='loss')"
   ]
  },
  {
   "cell_type": "markdown",
   "metadata": {},
   "source": [
    "- now set up the GDOptimizer which will tweak the model parameters to minimize the cost function"
   ]
  },
  {
   "cell_type": "code",
   "execution_count": 18,
   "metadata": {
    "collapsed": true
   },
   "outputs": [],
   "source": [
    "learning_rate = 0.0001\n",
    "\n",
    "with tf.name_scope('train'):\n",
    "    optimizer = tf.train.GradientDescentOptimizer(learning_rate)\n",
    "    training_op = optimizer.minimize(loss)"
   ]
  },
  {
   "cell_type": "markdown",
   "metadata": {},
   "source": [
    "### Evaluating\n",
    "- for each instance, we measure of the NN prediction is correct by checking whether or not the highest logit corresponds to the target class. ----> use __in_top_k()__\n",
    "- __in_top_k()__ returns a 1D tensor full of boolean values, we need to cast these booleans to floats and then compute the avg, this will give us the overall accuracy"
   ]
  },
  {
   "cell_type": "code",
   "execution_count": 19,
   "metadata": {
    "collapsed": true
   },
   "outputs": [],
   "source": [
    "with tf.name_scope('eval'):\n",
    "    correct = tf.nn.in_top_k(logits, y, 1)\n",
    "    accuracy = tf.reduce_mean(tf.cast(correct, tf.float32))"
   ]
  },
  {
   "cell_type": "code",
   "execution_count": 20,
   "metadata": {
    "collapsed": true
   },
   "outputs": [],
   "source": [
    "# create node to initialize all variables and create a Saver\n",
    "init = tf.global_variables_initializer()\n",
    "saver = tf.train.Saver()"
   ]
  },
  {
   "cell_type": "markdown",
   "metadata": {},
   "source": [
    "# Execution Phase"
   ]
  },
  {
   "cell_type": "markdown",
   "metadata": {},
   "source": [
    "- use tensorflow to fetch data, scale it between 0 and 1, shuffle it"
   ]
  },
  {
   "cell_type": "code",
   "execution_count": 21,
   "metadata": {
    "collapsed": false
   },
   "outputs": [
    {
     "name": "stdout",
     "output_type": "stream",
     "text": [
      "Successfully downloaded train-images-idx3-ubyte.gz 9912422 bytes.\n",
      "Extracting /tmp/data/train-images-idx3-ubyte.gz\n",
      "Successfully downloaded train-labels-idx1-ubyte.gz 28881 bytes.\n",
      "Extracting /tmp/data/train-labels-idx1-ubyte.gz\n",
      "Successfully downloaded t10k-images-idx3-ubyte.gz 1648877 bytes.\n",
      "Extracting /tmp/data/t10k-images-idx3-ubyte.gz\n",
      "Successfully downloaded t10k-labels-idx1-ubyte.gz 4542 bytes.\n",
      "Extracting /tmp/data/t10k-labels-idx1-ubyte.gz\n"
     ]
    }
   ],
   "source": [
    "from tensorflow.examples.tutorials.mnist import input_data\n",
    "mnist = input_data.read_data_sets('/tmp/data/')"
   ]
  },
  {
   "cell_type": "code",
   "execution_count": 22,
   "metadata": {
    "collapsed": true
   },
   "outputs": [],
   "source": [
    "n_epochs = 400\n",
    "batch_size = 50"
   ]
  },
  {
   "cell_type": "code",
   "execution_count": null,
   "metadata": {
    "collapsed": true
   },
   "outputs": [],
   "source": [
    "# train the model\n",
    "with tf.Session() as sess():\n",
    "    init.run()\n",
    "    # 1 epoch = 1 pass of entire dataset forward and backward\n",
    "    for epoch in range(n_epochs):\n",
    "        # it will take 1200 iterations of batch_size=50 to go through 1 epoch\n",
    "        for iteration in range(mnist.train.num_examples // batch_size):\n",
    "            X_batch, y_batch = mnist.train.next_batch(batch_size)\n",
    "            sess.run(training_op, feed_dict={X: X_batch, y: y_batch})\n",
    "        acc_train"
   ]
  }
 ],
 "metadata": {
  "kernelspec": {
   "display_name": "Python 3",
   "language": "python",
   "name": "python3"
  },
  "language_info": {
   "codemirror_mode": {
    "name": "ipython",
    "version": 3
   },
   "file_extension": ".py",
   "mimetype": "text/x-python",
   "name": "python",
   "nbconvert_exporter": "python",
   "pygments_lexer": "ipython3",
   "version": "3.5.2"
  },
  "widgets": {
   "state": {},
   "version": "1.1.2"
  }
 },
 "nbformat": 4,
 "nbformat_minor": 2
}
