{
 "cells": [
  {
   "cell_type": "markdown",
   "metadata": {},
   "source": [
    "# Basic Neural Network in Tensorflow  (MNIST)\n",
    "\n",
    "### Construction Phase"
   ]
  },
  {
   "cell_type": "code",
   "execution_count": 1,
   "metadata": {
    "collapsed": true
   },
   "outputs": [],
   "source": [
    "import tensorflow as tf\n",
    "\n",
    "n_inputs = 28*28\n",
    "n_hidden1 = 300\n",
    "n_hidden2 = 100\n",
    "n_outputs = 10"
   ]
  },
  {
   "cell_type": "markdown",
   "metadata": {},
   "source": [
    "- since number of features is 28x28 but we dont know how many samples per training batch we're going to have, we use (None, n_inputs) as the shape of X.  \n",
    "- We also know y will be a 1D tensor, but unsure of how many samples will be a batch, so the shape of y is (None)"
   ]
  },
  {
   "cell_type": "code",
   "execution_count": 2,
   "metadata": {
    "collapsed": false
   },
   "outputs": [],
   "source": [
    "X = tf.placeholder(tf.float32, shape=(None, n_inputs), name=\"X\")\n",
    "y = tf.placeholder(tf.int64, shape=(None), name=\"y\")"
   ]
  },
  {
   "cell_type": "markdown",
   "metadata": {},
   "source": [
    "- X is the input layer (it will be replaced with one training batch at a time)\n",
    "- Then we have the 2 hidden layers (differ by number of neurons and the inputs they're connected to)\n",
    "- The output layer uses a softmax activation function"
   ]
  },
  {
   "cell_type": "code",
   "execution_count": 3,
   "metadata": {
    "collapsed": true
   },
   "outputs": [],
   "source": [
    "# def neuron_layer(X, n_neurons, name, activation=None):\n",
    "    \n",
    "#     # create name scope using the name of the layer.\n",
    "#     with tf.name_scope(name):\n",
    "        \n",
    "#         # get the number of inputs by uses the matrix's shape\n",
    "#         n_inputs = int(X.get_shape()[1])\n",
    "        \n",
    "#         # using this stddev will help increase the efficency of this particular network\n",
    "#         stddev = 2 / np.sqrt(n_inputs)\n",
    "        \n",
    "#         # We create W that will hold the weights of the matrix.  It is a 2D tensor containing all of the connection\n",
    "#         # weights between each input and neuron.  It is initialized randomly using a truncated normal (Gaussian) \n",
    "#         # distribution.  Important to 'init' all connection weights randomly for all hidden layers to avoid any \n",
    "#         # symmetries that the GD algo would be unable to break.\n",
    "#         init = tf.truncated_normal((n_inputs, n_neurons), stddev=stddev)\n",
    "#         W = tf.Variable(init, name='weights')\n",
    "        \n",
    "#         # creating biases init to 0\n",
    "#         b = tf.Variable(tf.zeros([n_neurons]), name='biases')\n",
    "        \n",
    "#         # create subgraph to compute z\n",
    "#         z = tf.matmul(X, W) + b\n",
    "#         if activation == 'relu':\n",
    "#             return tf.nn.relu(z)\n",
    "#         else:\n",
    "#             return z"
   ]
  },
  {
   "cell_type": "code",
   "execution_count": 4,
   "metadata": {
    "collapsed": true
   },
   "outputs": [],
   "source": [
    "# creating the network\n",
    "\n",
    "# with tf.name_scope('dnn'):\n",
    "#     hidden1 = neuron_layer(X, n_hidden1, 'hidden1', activation='relu')\n",
    "#     hidden2 = neuron_layer(n_hidden1, n_hidden2, 'hidden2', activation='relu')\n",
    "#     # logits is the output of the NN before going through softmax activation function.\n",
    "#     logits = neuron_layer(n_hidden2, n_outputs, 'outputs')"
   ]
  },
  {
   "cell_type": "markdown",
   "metadata": {},
   "source": [
    "### adding batch normalization\n",
    "\n",
    "- use training to tell batch_normalization() func whether it should use the current mini-batchs mean and stddev (training) or the running averages that it keeps track of (during testing)"
   ]
  },
  {
   "cell_type": "markdown",
   "metadata": {},
   "source": [
    "- instead of building our own neuron_layer function, we can use tensorflows __tf.layers.dense()__\n",
    "- use partial fnc: first parameter is a list of functions, and the other parameters will be passed to these functions automatically.\n",
    "- if this was a larger network, you could define a function with specific parameters for each function and then call it as many times as you need. \n"
   ]
  },
  {
   "cell_type": "code",
   "execution_count": 5,
   "metadata": {
    "collapsed": false
   },
   "outputs": [],
   "source": [
    "import numpy as np\n",
    "from functools import partial\n",
    "\n",
    "batch_norm_momentum = 0.9\n",
    "\n",
    "training = tf.placeholder_with_default(False, shape=(), name='training')\n",
    "\n",
    "with tf.name_scope('dnn'):\n",
    "    # creating xavier initializer\n",
    "    xavier_init = tf.contrib.layers.variance_scaling_initializer(factor=1.0, mode='FAN_AVG', uniform=True)\n",
    "    \n",
    "    # making a batch normalization layer with specific parameters using partial function\n",
    "    my_batch_norm_layer = partial(tf.layers.batch_normalization,\n",
    "                                 training=training,\n",
    "                                 momentum=batch_norm_momentum)\n",
    "    \n",
    "    # making a dense layer with specific parameters using partial function\n",
    "    my_dense_layer = partial(tf.layers.dense,\n",
    "                            kernel_initializer=xavier_init)\n",
    "    \n",
    "    # creating the first hidden layer with batch normalization\n",
    "    hidden1 = my_dense_layer(X, n_hidden1, name='hidden1')\n",
    "    bn1 = tf.nn.elu(my_batch_norm_layer(hidden1))\n",
    "\n",
    "    # creating the second hidden layer with batch normalization\n",
    "    hidden2 = my_dense_layer(bn1, n_hidden2, name='hidden2')\n",
    "    bn2 = tf.nn.elu(my_batch_norm_layer(hidden2))\n",
    "    \n",
    "    # creating final layer\n",
    "    logits_before_bn = my_dense_layer(bn2, n_outputs, name='outputs')\n",
    "    logits = my_batch_norm_layer(logits_before_bn)"
   ]
  },
  {
   "cell_type": "markdown",
   "metadata": {},
   "source": [
    "### Define Cost Function used to train\n",
    "\n",
    "- we will use cross-entropy -- penalize models that estimate a low probability for the target class.\n",
    "- __sparse_softmax_cross_entropy_with_logits()__ computes the cross entropy based on the logits (output of the network before going through the softmax activation function), and it expects labels in the form of ints, ranging from 0 to 9.\n",
    "- this will give us a 1D tensor containing the cross-entropy for each instance.  We then use TF's __reduce_mean()__ fnc to compute the cross entropy over all instances.\n",
    "- note - sparse_softmax_cross_entropy_with_logits is equivalent to applying the softmax function and then computing cross entropy, but it is more efficient than applying the softmax fnc earlier in our code."
   ]
  },
  {
   "cell_type": "code",
   "execution_count": 6,
   "metadata": {
    "collapsed": false
   },
   "outputs": [],
   "source": [
    "with tf.name_scope('loss'):\n",
    "    cross_entropy = tf.nn.sparse_softmax_cross_entropy_with_logits(labels=y, logits=logits)\n",
    "    loss = tf.reduce_mean(cross_entropy, name='loss')"
   ]
  },
  {
   "cell_type": "markdown",
   "metadata": {},
   "source": [
    "- now set up the GDOptimizer which will tweak the model parameters to minimize the cost function"
   ]
  },
  {
   "cell_type": "code",
   "execution_count": 7,
   "metadata": {
    "collapsed": false
   },
   "outputs": [],
   "source": [
    "learning_rate = 0.001\n",
    "\n",
    "with tf.name_scope('train'):\n",
    "    optimizer = tf.train.GradientDescentOptimizer(learning_rate)\n",
    "    training_op = optimizer.minimize(loss)"
   ]
  },
  {
   "cell_type": "markdown",
   "metadata": {},
   "source": [
    "### Evaluating\n",
    "- for each instance, we measure of the NN prediction is correct by checking whether or not the highest logit corresponds to the target class. ----> use __in_top_k()__\n",
    "- __in_top_k()__ returns a 1D tensor full of boolean values, we need to cast these booleans to floats and then compute the avg, this will give us the overall accuracy"
   ]
  },
  {
   "cell_type": "code",
   "execution_count": 8,
   "metadata": {
    "collapsed": true
   },
   "outputs": [],
   "source": [
    "with tf.name_scope('eval'):\n",
    "    correct = tf.nn.in_top_k(logits, y, 1)\n",
    "    accuracy = tf.reduce_mean(tf.cast(correct, tf.float32))"
   ]
  },
  {
   "cell_type": "code",
   "execution_count": 9,
   "metadata": {
    "collapsed": true
   },
   "outputs": [],
   "source": [
    "# create node to initialize all variables and create a Saver\n",
    "init = tf.global_variables_initializer()\n",
    "saver = tf.train.Saver()"
   ]
  },
  {
   "cell_type": "markdown",
   "metadata": {},
   "source": [
    "# Execution Phase"
   ]
  },
  {
   "cell_type": "markdown",
   "metadata": {},
   "source": [
    "- use tensorflow to fetch data, scale it between 0 and 1, shuffle it"
   ]
  },
  {
   "cell_type": "code",
   "execution_count": 10,
   "metadata": {
    "collapsed": false
   },
   "outputs": [
    {
     "name": "stdout",
     "output_type": "stream",
     "text": [
      "Extracting /tmp/data/train-images-idx3-ubyte.gz\n",
      "Extracting /tmp/data/train-labels-idx1-ubyte.gz\n",
      "Extracting /tmp/data/t10k-images-idx3-ubyte.gz\n",
      "Extracting /tmp/data/t10k-labels-idx1-ubyte.gz\n"
     ]
    }
   ],
   "source": [
    "from tensorflow.examples.tutorials.mnist import input_data\n",
    "mnist = input_data.read_data_sets('/tmp/data/')"
   ]
  },
  {
   "cell_type": "code",
   "execution_count": 11,
   "metadata": {
    "collapsed": true
   },
   "outputs": [],
   "source": [
    "n_epochs = 40\n",
    "batch_size = 50"
   ]
  },
  {
   "cell_type": "code",
   "execution_count": 12,
   "metadata": {
    "collapsed": false,
    "scrolled": false
   },
   "outputs": [
    {
     "name": "stdout",
     "output_type": "stream",
     "text": [
      "0 Test accuracy: 0.8512\n",
      "1 Test accuracy: 0.8816\n",
      "2 Test accuracy: 0.8948\n",
      "3 Test accuracy: 0.9046\n",
      "4 Test accuracy: 0.9086\n",
      "5 Test accuracy: 0.9142\n",
      "6 Test accuracy: 0.9202\n",
      "7 Test accuracy: 0.9241\n",
      "8 Test accuracy: 0.9268\n",
      "9 Test accuracy: 0.9324\n",
      "10 Test accuracy: 0.9356\n",
      "11 Test accuracy: 0.9386\n",
      "12 Test accuracy: 0.9398\n",
      "13 Test accuracy: 0.9433\n",
      "14 Test accuracy: 0.946\n",
      "15 Test accuracy: 0.9471\n",
      "16 Test accuracy: 0.9479\n",
      "17 Test accuracy: 0.9503\n",
      "18 Test accuracy: 0.9504\n",
      "19 Test accuracy: 0.9533\n",
      "20 Test accuracy: 0.9547\n",
      "21 Test accuracy: 0.9547\n",
      "22 Test accuracy: 0.9547\n",
      "23 Test accuracy: 0.9564\n",
      "24 Test accuracy: 0.9584\n",
      "25 Test accuracy: 0.9596\n",
      "26 Test accuracy: 0.9602\n",
      "27 Test accuracy: 0.9609\n",
      "28 Test accuracy: 0.9617\n",
      "29 Test accuracy: 0.962\n",
      "30 Test accuracy: 0.9621\n",
      "31 Test accuracy: 0.9631\n",
      "32 Test accuracy: 0.9641\n",
      "33 Test accuracy: 0.9634\n",
      "34 Test accuracy: 0.9634\n",
      "35 Test accuracy: 0.9653\n",
      "36 Test accuracy: 0.9664\n",
      "37 Test accuracy: 0.9657\n",
      "38 Test accuracy: 0.9664\n",
      "39 Test accuracy: 0.9668\n"
     ]
    }
   ],
   "source": [
    "extra_update_ops = tf.get_collection(tf.GraphKeys.UPDATE_OPS)\n",
    "\n",
    "with tf.Session() as sess:\n",
    "    init.run()\n",
    "    for epoch in range(n_epochs):\n",
    "        for iteration in range(mnist.train.num_examples // batch_size):\n",
    "            \n",
    "            X_batch, y_batch = mnist.train.next_batch(batch_size)\n",
    "            sess.run([training_op, extra_update_ops], \n",
    "                     feed_dict={training: True, X: X_batch, y: y_batch})\n",
    "        \n",
    "        accuracy_val = accuracy.eval(feed_dict={X: mnist.test.images, \n",
    "                                                y: mnist.test.labels})\n",
    "        \n",
    "        print(epoch, \"Test accuracy:\", accuracy_val)\n",
    "\n",
    "    save_path = saver.save(sess, \"./my_model_final.ckpt\")"
   ]
  },
  {
   "cell_type": "code",
   "execution_count": null,
   "metadata": {
    "collapsed": true
   },
   "outputs": [],
   "source": [
    "# use code below to restore the model and make predictions\n",
    "\n",
    "# with tf.Session() as sess:\n",
    "#     saver.restore(sess, \"./my_model_final.ckpt\")\n",
    "#     X_new_scaled = [...] # some new images (scaled from 0 to 1)\n",
    "#     Z = logits.eval(feed_dict={X: X_new_scaled})\n",
    "#     y_pred = np.argmax(Z, axis=1"
   ]
  },
  {
   "cell_type": "code",
   "execution_count": null,
   "metadata": {
    "collapsed": true
   },
   "outputs": [],
   "source": []
  }
 ],
 "metadata": {
  "kernelspec": {
   "display_name": "Python 3",
   "language": "python",
   "name": "python3"
  },
  "language_info": {
   "codemirror_mode": {
    "name": "ipython",
    "version": 3
   },
   "file_extension": ".py",
   "mimetype": "text/x-python",
   "name": "python",
   "nbconvert_exporter": "python",
   "pygments_lexer": "ipython3",
   "version": "3.5.2"
  },
  "widgets": {
   "state": {},
   "version": "1.1.2"
  }
 },
 "nbformat": 4,
 "nbformat_minor": 2
}
