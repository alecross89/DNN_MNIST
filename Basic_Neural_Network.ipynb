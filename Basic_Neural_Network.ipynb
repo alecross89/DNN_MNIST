{
 "cells": [
  {
   "cell_type": "markdown",
   "metadata": {},
   "source": [
    "# Basic Neural Network in Tensorflow  (MNIST)\n",
    "\n",
    "### Construction Phase"
   ]
  },
  {
   "cell_type": "code",
   "execution_count": 1,
   "metadata": {
    "collapsed": true
   },
   "outputs": [],
   "source": [
    "import tensorflow as tf\n",
    "\n",
    "n_inputs = 28*28\n",
    "n_hidden1 = 300\n",
    "n_hidden2 = 100\n",
    "n_outputs = 10"
   ]
  },
  {
   "cell_type": "markdown",
   "metadata": {},
   "source": [
    "- since number of features is 28x28 but we dont know how many samples per training batch we're going to have, we use (None, n_inputs) as the shape of X.  \n",
    "- We also know y will be a 1D tensor, but unsure of how many samples will be a batch, so the shape of y is (None)"
   ]
  },
  {
   "cell_type": "code",
   "execution_count": 2,
   "metadata": {
    "collapsed": false
   },
   "outputs": [],
   "source": [
    "X = tf.placeholder(tf.float32, shape=(None, n_inputs), name=\"X\")\n",
    "y = tf.placeholder(tf.int64, shape=(None), name=\"y\")"
   ]
  },
  {
   "cell_type": "markdown",
   "metadata": {},
   "source": [
    "- X is the input layer (it will be replaced with one training batch at a time)\n",
    "- Then we have the 2 hidden layers (differ by number of neurons and the inputs they're connected to)\n",
    "- The output layer uses a softmax activation function"
   ]
  },
  {
   "cell_type": "code",
   "execution_count": 3,
   "metadata": {
    "collapsed": true
   },
   "outputs": [],
   "source": [
    "# def neuron_layer(X, n_neurons, name, activation=None):\n",
    "    \n",
    "#     # create name scope using the name of the layer.\n",
    "#     with tf.name_scope(name):\n",
    "        \n",
    "#         # get the number of inputs by uses the matrix's shape\n",
    "#         n_inputs = int(X.get_shape()[1])\n",
    "        \n",
    "#         # using this stddev will help increase the efficency of this particular network\n",
    "#         stddev = 2 / np.sqrt(n_inputs)\n",
    "        \n",
    "#         # We create W that will hold the weights of the matrix.  It is a 2D tensor containing all of the connection\n",
    "#         # weights between each input and neuron.  It is initialized randomly using a truncated normal (Gaussian) \n",
    "#         # distribution.  Important to 'init' all connection weights randomly for all hidden layers to avoid any \n",
    "#         # symmetries that the GD algo would be unable to break.\n",
    "#         init = tf.truncated_normal((n_inputs, n_neurons), stddev=stddev)\n",
    "#         W = tf.Variable(init, name='weights')\n",
    "        \n",
    "#         # creating biases init to 0\n",
    "#         b = tf.Variable(tf.zeros([n_neurons]), name='biases')\n",
    "        \n",
    "#         # create subgraph to compute z\n",
    "#         z = tf.matmul(X, W) + b\n",
    "#         if activation == 'relu':\n",
    "#             return tf.nn.relu(z)\n",
    "#         else:\n",
    "#             return z"
   ]
  },
  {
   "cell_type": "code",
   "execution_count": 4,
   "metadata": {
    "collapsed": true
   },
   "outputs": [],
   "source": [
    "# creating the network\n",
    "\n",
    "# with tf.name_scope('dnn'):\n",
    "#     hidden1 = neuron_layer(X, n_hidden1, 'hidden1', activation='relu')\n",
    "#     hidden2 = neuron_layer(n_hidden1, n_hidden2, 'hidden2', activation='relu')\n",
    "#     # logits is the output of the NN before going through softmax activation function.\n",
    "#     logits = neuron_layer(n_hidden2, n_outputs, 'outputs')"
   ]
  },
  {
   "cell_type": "markdown",
   "metadata": {},
   "source": [
    "- instead of building our own neuron_layer function, we can use tensorflows tf.layers.dense() layer "
   ]
  },
  {
   "cell_type": "code",
   "execution_count": 5,
   "metadata": {
    "collapsed": false
   },
   "outputs": [],
   "source": [
    "import numpy as np\n",
    "\n",
    "with tf.name_scope(\"dnn\"):\n",
    "    hidden1 = tf.layers.dense(X, n_hidden1, name=\"hidden1\", activation=tf.nn.relu)\n",
    "    hidden2 = tf.layers.dense(hidden1, n_hidden2, name=\"hidden2\", activation=tf.nn.relu)\n",
    "    logits = tf.layers.dense(hidden2, n_outputs, name=\"outputs\")"
   ]
  },
  {
   "cell_type": "markdown",
   "metadata": {},
   "source": [
    "### Define Cost Function used to train\n",
    "\n",
    "- we will use cross-entropy -- penalize models that estimate a low probability for the target class.\n",
    "- __sparse_softmax_cross_entropy_with_logits()__ computes the cross entropy based on the logits (output of the network before going through the softmax activation function), and it expects labels in the form of ints, ranging from 0 to 9.\n",
    "- this will give us a 1D tensor containing the cross-entropy for each instance.  We then use TF's __reduce_mean()__ fnc to compute the cross entropy over all instances.\n",
    "- note - sparse_softmax_cross_entropy_with_logits is equivalent to applying the softmax function and then computing cross entropy, but it is more efficient than applying the softmax fnc earlier in our code."
   ]
  },
  {
   "cell_type": "code",
   "execution_count": 6,
   "metadata": {
    "collapsed": false
   },
   "outputs": [],
   "source": [
    "with tf.name_scope('loss'):\n",
    "    cross_entropy = tf.nn.sparse_softmax_cross_entropy_with_logits(labels=y, logits=logits)\n",
    "    loss = tf.reduce_mean(cross_entropy, name='loss')"
   ]
  },
  {
   "cell_type": "markdown",
   "metadata": {},
   "source": [
    "- now set up the GDOptimizer which will tweak the model parameters to minimize the cost function"
   ]
  },
  {
   "cell_type": "code",
   "execution_count": 7,
   "metadata": {
    "collapsed": true
   },
   "outputs": [],
   "source": [
    "learning_rate = 0.0001\n",
    "\n",
    "with tf.name_scope('train'):\n",
    "    optimizer = tf.train.GradientDescentOptimizer(learning_rate)\n",
    "    training_op = optimizer.minimize(loss)"
   ]
  },
  {
   "cell_type": "markdown",
   "metadata": {},
   "source": [
    "### Evaluating\n",
    "- for each instance, we measure of the NN prediction is correct by checking whether or not the highest logit corresponds to the target class. ----> use __in_top_k()__\n",
    "- __in_top_k()__ returns a 1D tensor full of boolean values, we need to cast these booleans to floats and then compute the avg, this will give us the overall accuracy"
   ]
  },
  {
   "cell_type": "code",
   "execution_count": 8,
   "metadata": {
    "collapsed": true
   },
   "outputs": [],
   "source": [
    "with tf.name_scope('eval'):\n",
    "    correct = tf.nn.in_top_k(logits, y, 1)\n",
    "    accuracy = tf.reduce_mean(tf.cast(correct, tf.float32))"
   ]
  },
  {
   "cell_type": "code",
   "execution_count": 9,
   "metadata": {
    "collapsed": true
   },
   "outputs": [],
   "source": [
    "# create node to initialize all variables and create a Saver\n",
    "init = tf.global_variables_initializer()\n",
    "saver = tf.train.Saver()"
   ]
  },
  {
   "cell_type": "markdown",
   "metadata": {},
   "source": [
    "# Execution Phase"
   ]
  },
  {
   "cell_type": "markdown",
   "metadata": {},
   "source": [
    "- use tensorflow to fetch data, scale it between 0 and 1, shuffle it"
   ]
  },
  {
   "cell_type": "code",
   "execution_count": 10,
   "metadata": {
    "collapsed": false
   },
   "outputs": [
    {
     "name": "stdout",
     "output_type": "stream",
     "text": [
      "Extracting /tmp/data/train-images-idx3-ubyte.gz\n",
      "Extracting /tmp/data/train-labels-idx1-ubyte.gz\n",
      "Extracting /tmp/data/t10k-images-idx3-ubyte.gz\n",
      "Extracting /tmp/data/t10k-labels-idx1-ubyte.gz\n"
     ]
    }
   ],
   "source": [
    "from tensorflow.examples.tutorials.mnist import input_data\n",
    "mnist = input_data.read_data_sets('/tmp/data/')"
   ]
  },
  {
   "cell_type": "code",
   "execution_count": 11,
   "metadata": {
    "collapsed": true
   },
   "outputs": [],
   "source": [
    "n_epochs = 100\n",
    "batch_size = 50"
   ]
  },
  {
   "cell_type": "code",
   "execution_count": 12,
   "metadata": {
    "collapsed": false,
    "scrolled": false
   },
   "outputs": [
    {
     "name": "stdout",
     "output_type": "stream",
     "text": [
      "0 Train accuracy: 0.18 Test accuracy: 0.1878\n",
      "1 Train accuracy: 0.32 Test accuracy: 0.3178\n",
      "2 Train accuracy: 0.36 Test accuracy: 0.4106\n",
      "3 Train accuracy: 0.5 Test accuracy: 0.4773\n",
      "4 Train accuracy: 0.52 Test accuracy: 0.5315\n",
      "5 Train accuracy: 0.5 Test accuracy: 0.5769\n",
      "6 Train accuracy: 0.68 Test accuracy: 0.6096\n",
      "7 Train accuracy: 0.68 Test accuracy: 0.6393\n",
      "8 Train accuracy: 0.64 Test accuracy: 0.6662\n",
      "9 Train accuracy: 0.68 Test accuracy: 0.6883\n",
      "10 Train accuracy: 0.66 Test accuracy: 0.71\n",
      "11 Train accuracy: 0.7 Test accuracy: 0.7284\n",
      "12 Train accuracy: 0.74 Test accuracy: 0.7436\n",
      "13 Train accuracy: 0.7 Test accuracy: 0.7546\n",
      "14 Train accuracy: 0.8 Test accuracy: 0.7646\n",
      "15 Train accuracy: 0.78 Test accuracy: 0.771\n",
      "16 Train accuracy: 0.84 Test accuracy: 0.7818\n",
      "17 Train accuracy: 0.78 Test accuracy: 0.7891\n",
      "18 Train accuracy: 0.82 Test accuracy: 0.7964\n",
      "19 Train accuracy: 0.88 Test accuracy: 0.8022\n",
      "20 Train accuracy: 0.72 Test accuracy: 0.8073\n",
      "21 Train accuracy: 0.7 Test accuracy: 0.8139\n",
      "22 Train accuracy: 0.72 Test accuracy: 0.8175\n",
      "23 Train accuracy: 0.8 Test accuracy: 0.8222\n",
      "24 Train accuracy: 0.86 Test accuracy: 0.8263\n",
      "25 Train accuracy: 0.86 Test accuracy: 0.8311\n",
      "26 Train accuracy: 0.86 Test accuracy: 0.8351\n",
      "27 Train accuracy: 0.8 Test accuracy: 0.8387\n",
      "28 Train accuracy: 0.9 Test accuracy: 0.8418\n",
      "29 Train accuracy: 0.86 Test accuracy: 0.8455\n",
      "30 Train accuracy: 0.9 Test accuracy: 0.8476\n",
      "31 Train accuracy: 0.88 Test accuracy: 0.85\n",
      "32 Train accuracy: 0.84 Test accuracy: 0.8521\n",
      "33 Train accuracy: 0.88 Test accuracy: 0.856\n",
      "34 Train accuracy: 0.86 Test accuracy: 0.8579\n",
      "35 Train accuracy: 0.84 Test accuracy: 0.8608\n",
      "36 Train accuracy: 0.86 Test accuracy: 0.8632\n",
      "37 Train accuracy: 0.8 Test accuracy: 0.8655\n",
      "38 Train accuracy: 0.8 Test accuracy: 0.8675\n",
      "39 Train accuracy: 0.84 Test accuracy: 0.868\n",
      "40 Train accuracy: 0.9 Test accuracy: 0.8691\n",
      "41 Train accuracy: 0.88 Test accuracy: 0.8702\n",
      "42 Train accuracy: 0.84 Test accuracy: 0.8718\n",
      "43 Train accuracy: 0.82 Test accuracy: 0.8733\n",
      "44 Train accuracy: 0.8 Test accuracy: 0.8748\n",
      "45 Train accuracy: 0.84 Test accuracy: 0.8758\n",
      "46 Train accuracy: 0.9 Test accuracy: 0.8769\n",
      "47 Train accuracy: 0.94 Test accuracy: 0.8776\n",
      "48 Train accuracy: 0.98 Test accuracy: 0.8781\n",
      "49 Train accuracy: 0.84 Test accuracy: 0.8794\n",
      "50 Train accuracy: 0.88 Test accuracy: 0.8803\n",
      "51 Train accuracy: 0.9 Test accuracy: 0.8813\n",
      "52 Train accuracy: 0.76 Test accuracy: 0.8819\n",
      "53 Train accuracy: 0.88 Test accuracy: 0.8826\n",
      "54 Train accuracy: 0.82 Test accuracy: 0.884\n",
      "55 Train accuracy: 0.94 Test accuracy: 0.8851\n",
      "56 Train accuracy: 0.9 Test accuracy: 0.8861\n",
      "57 Train accuracy: 0.9 Test accuracy: 0.8865\n",
      "58 Train accuracy: 0.94 Test accuracy: 0.8866\n",
      "59 Train accuracy: 0.86 Test accuracy: 0.8873\n",
      "60 Train accuracy: 0.92 Test accuracy: 0.8878\n",
      "61 Train accuracy: 0.8 Test accuracy: 0.8887\n",
      "62 Train accuracy: 0.92 Test accuracy: 0.8897\n",
      "63 Train accuracy: 0.94 Test accuracy: 0.8903\n",
      "64 Train accuracy: 0.92 Test accuracy: 0.8909\n",
      "65 Train accuracy: 0.88 Test accuracy: 0.8914\n",
      "66 Train accuracy: 0.94 Test accuracy: 0.8923\n",
      "67 Train accuracy: 0.9 Test accuracy: 0.8929\n",
      "68 Train accuracy: 0.9 Test accuracy: 0.8933\n",
      "69 Train accuracy: 0.84 Test accuracy: 0.8935\n",
      "70 Train accuracy: 0.96 Test accuracy: 0.8937\n",
      "71 Train accuracy: 0.9 Test accuracy: 0.8944\n",
      "72 Train accuracy: 0.94 Test accuracy: 0.8951\n",
      "73 Train accuracy: 0.92 Test accuracy: 0.8959\n",
      "74 Train accuracy: 0.94 Test accuracy: 0.8963\n",
      "75 Train accuracy: 0.92 Test accuracy: 0.8965\n",
      "76 Train accuracy: 0.94 Test accuracy: 0.8967\n",
      "77 Train accuracy: 0.88 Test accuracy: 0.8972\n",
      "78 Train accuracy: 0.9 Test accuracy: 0.8973\n",
      "79 Train accuracy: 0.88 Test accuracy: 0.8981\n",
      "80 Train accuracy: 0.94 Test accuracy: 0.8982\n",
      "81 Train accuracy: 0.94 Test accuracy: 0.8988\n",
      "82 Train accuracy: 0.88 Test accuracy: 0.8993\n",
      "83 Train accuracy: 0.8 Test accuracy: 0.8991\n",
      "84 Train accuracy: 0.88 Test accuracy: 0.8996\n",
      "85 Train accuracy: 0.9 Test accuracy: 0.9003\n",
      "86 Train accuracy: 0.9 Test accuracy: 0.9007\n",
      "87 Train accuracy: 0.76 Test accuracy: 0.9008\n",
      "88 Train accuracy: 0.9 Test accuracy: 0.9013\n",
      "89 Train accuracy: 0.86 Test accuracy: 0.9021\n",
      "90 Train accuracy: 0.98 Test accuracy: 0.9026\n",
      "91 Train accuracy: 0.86 Test accuracy: 0.9029\n",
      "92 Train accuracy: 0.96 Test accuracy: 0.903\n",
      "93 Train accuracy: 0.88 Test accuracy: 0.9035\n",
      "94 Train accuracy: 0.94 Test accuracy: 0.9042\n",
      "95 Train accuracy: 0.98 Test accuracy: 0.9043\n",
      "96 Train accuracy: 0.92 Test accuracy: 0.9046\n",
      "97 Train accuracy: 0.88 Test accuracy: 0.9047\n",
      "98 Train accuracy: 0.96 Test accuracy: 0.9049\n",
      "99 Train accuracy: 0.9 Test accuracy: 0.9055\n"
     ]
    }
   ],
   "source": [
    "with tf.Session() as sess:\n",
    "    init.run()\n",
    "    for epoch in range(n_epochs):\n",
    "        for iteration in range(mnist.train.num_examples // batch_size):\n",
    "            X_batch, y_batch = mnist.train.next_batch(batch_size)\n",
    "            sess.run(training_op, feed_dict={X: X_batch, y: y_batch})\n",
    "        acc_train = accuracy.eval(feed_dict={X: X_batch, y: y_batch})\n",
    "        acc_test = accuracy.eval(feed_dict={X: mnist.test.images, y: mnist.test.labels})\n",
    "        print(epoch, \"Train accuracy:\", acc_train, \"Test accuracy:\", acc_test)\n",
    "\n",
    "    save_path = saver.save(sess, \"./my_model_final.ckpt\")"
   ]
  },
  {
   "cell_type": "code",
   "execution_count": 13,
   "metadata": {
    "collapsed": true
   },
   "outputs": [],
   "source": [
    "# use code below to restore the model and make predictions\n",
    "\n",
    "# with tf.Session() as sess:\n",
    "#     saver.restore(sess, \"./my_model_final.ckpt\")\n",
    "#     X_new_scaled = [...] # some new images (scaled from 0 to 1)\n",
    "#     Z = logits.eval(feed_dict={X: X_new_scaled})\n",
    "#     y_pred = np.argmax(Z, axis=1"
   ]
  },
  {
   "cell_type": "code",
   "execution_count": null,
   "metadata": {
    "collapsed": true
   },
   "outputs": [],
   "source": []
  }
 ],
 "metadata": {
  "kernelspec": {
   "display_name": "Python 3",
   "language": "python",
   "name": "python3"
  },
  "language_info": {
   "codemirror_mode": {
    "name": "ipython",
    "version": 3
   },
   "file_extension": ".py",
   "mimetype": "text/x-python",
   "name": "python",
   "nbconvert_exporter": "python",
   "pygments_lexer": "ipython3",
   "version": "3.5.2"
  },
  "widgets": {
   "state": {},
   "version": "1.1.2"
  }
 },
 "nbformat": 4,
 "nbformat_minor": 2
}
